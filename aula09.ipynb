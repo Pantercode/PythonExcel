{
 "cells": [
  {
   "cell_type": "code",
   "execution_count": 7,
   "metadata": {},
   "outputs": [],
   "source": [
    "import pandas as pd"
   ]
  },
  {
   "cell_type": "code",
   "execution_count": 8,
   "metadata": {},
   "outputs": [],
   "source": [
    "# Lendo os datasets\n",
    "df_vendas = pd.read_csv('datasets/vendas.csv',sep=';' , decimal=',', index_col=0)\n",
    "\n",
    "# Lendo os datasets produtos\n",
    "df_produtos = pd.read_csv('datasets/produtos.csv', sep=';', decimal=',',index_col=0)"
   ]
  },
  {
   "cell_type": "code",
   "execution_count": 9,
   "metadata": {},
   "outputs": [],
   "source": [
    "df_produto = df_produtos.rename(columns={'nome':'produto'})"
   ]
  },
  {
   "cell_type": "code",
   "execution_count": 10,
   "metadata": {},
   "outputs": [
    {
     "data": {
      "text/html": [
       "<div>\n",
       "<style scoped>\n",
       "    .dataframe tbody tr th:only-of-type {\n",
       "        vertical-align: middle;\n",
       "    }\n",
       "\n",
       "    .dataframe tbody tr th {\n",
       "        vertical-align: top;\n",
       "    }\n",
       "\n",
       "    .dataframe thead th {\n",
       "        text-align: right;\n",
       "    }\n",
       "</style>\n",
       "<table border=\"1\" class=\"dataframe\">\n",
       "  <thead>\n",
       "    <tr style=\"text-align: right;\">\n",
       "      <th></th>\n",
       "      <th>id_venda</th>\n",
       "      <th>filial</th>\n",
       "      <th>vendedor</th>\n",
       "      <th>produto</th>\n",
       "      <th>cliente_nome</th>\n",
       "      <th>cliente_genero</th>\n",
       "      <th>forma_pagamento</th>\n",
       "      <th>id</th>\n",
       "      <th>preco</th>\n",
       "    </tr>\n",
       "  </thead>\n",
       "  <tbody>\n",
       "    <tr>\n",
       "      <th>0</th>\n",
       "      <td>0</td>\n",
       "      <td>Canoas</td>\n",
       "      <td>Luis Fernando</td>\n",
       "      <td>Tenis Nike</td>\n",
       "      <td>Sabrina Rieke</td>\n",
       "      <td>feminino</td>\n",
       "      <td>credito</td>\n",
       "      <td>0</td>\n",
       "      <td>300</td>\n",
       "    </tr>\n",
       "    <tr>\n",
       "      <th>1</th>\n",
       "      <td>1</td>\n",
       "      <td>Florianópolis</td>\n",
       "      <td>Mario Sérgio</td>\n",
       "      <td>Tenis Adidas</td>\n",
       "      <td>Patsy Lovell</td>\n",
       "      <td>feminino</td>\n",
       "      <td>credito</td>\n",
       "      <td>1</td>\n",
       "      <td>450</td>\n",
       "    </tr>\n",
       "    <tr>\n",
       "      <th>2</th>\n",
       "      <td>2</td>\n",
       "      <td>Canoas</td>\n",
       "      <td>Carlos Henrique</td>\n",
       "      <td>Tenis Adidas</td>\n",
       "      <td>John Crandall</td>\n",
       "      <td>masculino</td>\n",
       "      <td>credito</td>\n",
       "      <td>1</td>\n",
       "      <td>450</td>\n",
       "    </tr>\n",
       "    <tr>\n",
       "      <th>3</th>\n",
       "      <td>3</td>\n",
       "      <td>Caxias do Sul</td>\n",
       "      <td>Rodrigo Vanzeloti</td>\n",
       "      <td>Tenis Adidas</td>\n",
       "      <td>Mildred Mcleod</td>\n",
       "      <td>feminino</td>\n",
       "      <td>credito</td>\n",
       "      <td>1</td>\n",
       "      <td>450</td>\n",
       "    </tr>\n",
       "    <tr>\n",
       "      <th>4</th>\n",
       "      <td>4</td>\n",
       "      <td>São Paulo</td>\n",
       "      <td>Cassia Moraes</td>\n",
       "      <td>Tenis NB</td>\n",
       "      <td>Robert Mccormick</td>\n",
       "      <td>masculino</td>\n",
       "      <td>credito</td>\n",
       "      <td>2</td>\n",
       "      <td>500</td>\n",
       "    </tr>\n",
       "    <tr>\n",
       "      <th>...</th>\n",
       "      <td>...</td>\n",
       "      <td>...</td>\n",
       "      <td>...</td>\n",
       "      <td>...</td>\n",
       "      <td>...</td>\n",
       "      <td>...</td>\n",
       "      <td>...</td>\n",
       "      <td>...</td>\n",
       "      <td>...</td>\n",
       "    </tr>\n",
       "    <tr>\n",
       "      <th>1995</th>\n",
       "      <td>1995</td>\n",
       "      <td>Porto Alegre</td>\n",
       "      <td>Luiza Cherobini</td>\n",
       "      <td>Tenis Nike</td>\n",
       "      <td>Glenn Johnson</td>\n",
       "      <td>masculino</td>\n",
       "      <td>credito</td>\n",
       "      <td>0</td>\n",
       "      <td>300</td>\n",
       "    </tr>\n",
       "    <tr>\n",
       "      <th>1996</th>\n",
       "      <td>1996</td>\n",
       "      <td>Lajeado</td>\n",
       "      <td>Juliano Faccioni</td>\n",
       "      <td>Tenis Adidas</td>\n",
       "      <td>Robert Roop</td>\n",
       "      <td>masculino</td>\n",
       "      <td>boleto</td>\n",
       "      <td>1</td>\n",
       "      <td>450</td>\n",
       "    </tr>\n",
       "    <tr>\n",
       "      <th>1997</th>\n",
       "      <td>1997</td>\n",
       "      <td>Canoas</td>\n",
       "      <td>Luis Fernando</td>\n",
       "      <td>Tenis Adidas</td>\n",
       "      <td>Mary Berg</td>\n",
       "      <td>feminino</td>\n",
       "      <td>credito</td>\n",
       "      <td>1</td>\n",
       "      <td>450</td>\n",
       "    </tr>\n",
       "    <tr>\n",
       "      <th>1998</th>\n",
       "      <td>1998</td>\n",
       "      <td>Lajeado</td>\n",
       "      <td>Adriano Soares</td>\n",
       "      <td>Tenis NB</td>\n",
       "      <td>Dianna Alcorn</td>\n",
       "      <td>feminino</td>\n",
       "      <td>credito</td>\n",
       "      <td>2</td>\n",
       "      <td>500</td>\n",
       "    </tr>\n",
       "    <tr>\n",
       "      <th>1999</th>\n",
       "      <td>1999</td>\n",
       "      <td>São Paulo</td>\n",
       "      <td>Cassia Moraes</td>\n",
       "      <td>Tenis Fila</td>\n",
       "      <td>Isabelle Mercado</td>\n",
       "      <td>feminino</td>\n",
       "      <td>credito</td>\n",
       "      <td>3</td>\n",
       "      <td>250</td>\n",
       "    </tr>\n",
       "  </tbody>\n",
       "</table>\n",
       "<p>2000 rows × 9 columns</p>\n",
       "</div>"
      ],
      "text/plain": [
       "      id_venda         filial           vendedor       produto  \\\n",
       "0            0         Canoas      Luis Fernando    Tenis Nike   \n",
       "1            1  Florianópolis       Mario Sérgio  Tenis Adidas   \n",
       "2            2         Canoas    Carlos Henrique  Tenis Adidas   \n",
       "3            3  Caxias do Sul  Rodrigo Vanzeloti  Tenis Adidas   \n",
       "4            4      São Paulo      Cassia Moraes      Tenis NB   \n",
       "...        ...            ...                ...           ...   \n",
       "1995      1995   Porto Alegre    Luiza Cherobini    Tenis Nike   \n",
       "1996      1996        Lajeado   Juliano Faccioni  Tenis Adidas   \n",
       "1997      1997         Canoas      Luis Fernando  Tenis Adidas   \n",
       "1998      1998        Lajeado     Adriano Soares      Tenis NB   \n",
       "1999      1999      São Paulo      Cassia Moraes    Tenis Fila   \n",
       "\n",
       "          cliente_nome cliente_genero forma_pagamento  id  preco  \n",
       "0        Sabrina Rieke       feminino         credito   0    300  \n",
       "1         Patsy Lovell       feminino         credito   1    450  \n",
       "2        John Crandall      masculino         credito   1    450  \n",
       "3       Mildred Mcleod       feminino         credito   1    450  \n",
       "4     Robert Mccormick      masculino         credito   2    500  \n",
       "...                ...            ...             ...  ..    ...  \n",
       "1995     Glenn Johnson      masculino         credito   0    300  \n",
       "1996       Robert Roop      masculino          boleto   1    450  \n",
       "1997         Mary Berg       feminino         credito   1    450  \n",
       "1998     Dianna Alcorn       feminino         credito   2    500  \n",
       "1999  Isabelle Mercado       feminino         credito   3    250  \n",
       "\n",
       "[2000 rows x 9 columns]"
      ]
     },
     "execution_count": 10,
     "metadata": {},
     "output_type": "execute_result"
    }
   ],
   "source": [
    "#Merge\n",
    "df_vendas_uniao = pd.merge(left= df_vendas, \n",
    "                           right=df_produto,\n",
    "                            on= 'produto',\n",
    "                            how='left')\n",
    "df_vendas_uniao"
   ]
  },
  {
   "cell_type": "code",
   "execution_count": 11,
   "metadata": {},
   "outputs": [
    {
     "data": {
      "text/html": [
       "<div>\n",
       "<style scoped>\n",
       "    .dataframe tbody tr th:only-of-type {\n",
       "        vertical-align: middle;\n",
       "    }\n",
       "\n",
       "    .dataframe tbody tr th {\n",
       "        vertical-align: top;\n",
       "    }\n",
       "\n",
       "    .dataframe thead th {\n",
       "        text-align: right;\n",
       "    }\n",
       "</style>\n",
       "<table border=\"1\" class=\"dataframe\">\n",
       "  <thead>\n",
       "    <tr style=\"text-align: right;\">\n",
       "      <th></th>\n",
       "      <th>id_venda</th>\n",
       "      <th>id</th>\n",
       "      <th>preco</th>\n",
       "    </tr>\n",
       "  </thead>\n",
       "  <tbody>\n",
       "    <tr>\n",
       "      <th>count</th>\n",
       "      <td>2000.000000</td>\n",
       "      <td>2000.000000</td>\n",
       "      <td>2000.000000</td>\n",
       "    </tr>\n",
       "    <tr>\n",
       "      <th>mean</th>\n",
       "      <td>999.500000</td>\n",
       "      <td>1.513000</td>\n",
       "      <td>374.600000</td>\n",
       "    </tr>\n",
       "    <tr>\n",
       "      <th>std</th>\n",
       "      <td>577.494589</td>\n",
       "      <td>1.120473</td>\n",
       "      <td>103.465901</td>\n",
       "    </tr>\n",
       "    <tr>\n",
       "      <th>min</th>\n",
       "      <td>0.000000</td>\n",
       "      <td>0.000000</td>\n",
       "      <td>250.000000</td>\n",
       "    </tr>\n",
       "    <tr>\n",
       "      <th>25%</th>\n",
       "      <td>499.750000</td>\n",
       "      <td>1.000000</td>\n",
       "      <td>250.000000</td>\n",
       "    </tr>\n",
       "    <tr>\n",
       "      <th>50%</th>\n",
       "      <td>999.500000</td>\n",
       "      <td>2.000000</td>\n",
       "      <td>300.000000</td>\n",
       "    </tr>\n",
       "    <tr>\n",
       "      <th>75%</th>\n",
       "      <td>1499.250000</td>\n",
       "      <td>3.000000</td>\n",
       "      <td>500.000000</td>\n",
       "    </tr>\n",
       "    <tr>\n",
       "      <th>max</th>\n",
       "      <td>1999.000000</td>\n",
       "      <td>3.000000</td>\n",
       "      <td>500.000000</td>\n",
       "    </tr>\n",
       "  </tbody>\n",
       "</table>\n",
       "</div>"
      ],
      "text/plain": [
       "          id_venda           id        preco\n",
       "count  2000.000000  2000.000000  2000.000000\n",
       "mean    999.500000     1.513000   374.600000\n",
       "std     577.494589     1.120473   103.465901\n",
       "min       0.000000     0.000000   250.000000\n",
       "25%     499.750000     1.000000   250.000000\n",
       "50%     999.500000     2.000000   300.000000\n",
       "75%    1499.250000     3.000000   500.000000\n",
       "max    1999.000000     3.000000   500.000000"
      ]
     },
     "execution_count": 11,
     "metadata": {},
     "output_type": "execute_result"
    }
   ],
   "source": [
    "df_vendas_uniao.describe()"
   ]
  },
  {
   "cell_type": "code",
   "execution_count": 12,
   "metadata": {},
   "outputs": [
    {
     "name": "stdout",
     "output_type": "stream",
     "text": [
      "<class 'pandas.core.frame.DataFrame'>\n",
      "RangeIndex: 2000 entries, 0 to 1999\n",
      "Data columns (total 9 columns):\n",
      " #   Column           Non-Null Count  Dtype \n",
      "---  ------           --------------  ----- \n",
      " 0   id_venda         2000 non-null   int64 \n",
      " 1   filial           2000 non-null   object\n",
      " 2   vendedor         2000 non-null   object\n",
      " 3   produto          2000 non-null   object\n",
      " 4   cliente_nome     2000 non-null   object\n",
      " 5   cliente_genero   2000 non-null   object\n",
      " 6   forma_pagamento  2000 non-null   object\n",
      " 7   id               2000 non-null   int64 \n",
      " 8   preco            2000 non-null   int64 \n",
      "dtypes: int64(3), object(6)\n",
      "memory usage: 140.8+ KB\n"
     ]
    }
   ],
   "source": [
    "df_vendas_uniao.info()"
   ]
  },
  {
   "cell_type": "code",
   "execution_count": 14,
   "metadata": {},
   "outputs": [
    {
     "data": {
      "text/plain": [
       "filial\n",
       "Florianópolis    349\n",
       "São Paulo        343\n",
       "Canoas           337\n",
       "Porto Alegre     335\n",
       "Lajeado          325\n",
       "Caxias do Sul    311\n",
       "Name: count, dtype: int64"
      ]
     },
     "execution_count": 14,
     "metadata": {},
     "output_type": "execute_result"
    }
   ],
   "source": [
    "df_vendas_uniao['filial'] .value_counts()"
   ]
  },
  {
   "cell_type": "code",
   "execution_count": 16,
   "metadata": {},
   "outputs": [
    {
     "data": {
      "text/plain": [
       "filial\n",
       "Florianópolis    0.1745\n",
       "São Paulo        0.1715\n",
       "Canoas           0.1685\n",
       "Porto Alegre     0.1675\n",
       "Lajeado          0.1625\n",
       "Caxias do Sul    0.1555\n",
       "Name: proportion, dtype: float64"
      ]
     },
     "execution_count": 16,
     "metadata": {},
     "output_type": "execute_result"
    }
   ],
   "source": [
    "#visão percentual\n",
    "df_vendas_uniao['filial'] .value_counts(normalize=True)"
   ]
  },
  {
   "cell_type": "code",
   "execution_count": 19,
   "metadata": {},
   "outputs": [
    {
     "data": {
      "text/plain": [
       "array(['Canoas', 'Florianópolis', 'Caxias do Sul', 'São Paulo', 'Lajeado',\n",
       "       'Porto Alegre'], dtype=object)"
      ]
     },
     "execution_count": 19,
     "metadata": {},
     "output_type": "execute_result"
    }
   ],
   "source": [
    "df_vendas_uniao['filial'].unique()"
   ]
  },
  {
   "cell_type": "code",
   "execution_count": 20,
   "metadata": {},
   "outputs": [
    {
     "data": {
      "text/plain": [
       "np.int64(749200)"
      ]
     },
     "execution_count": 20,
     "metadata": {},
     "output_type": "execute_result"
    }
   ],
   "source": [
    "df_vendas_uniao['preco'].sum()"
   ]
  },
  {
   "cell_type": "code",
   "execution_count": 21,
   "metadata": {},
   "outputs": [
    {
     "data": {
      "text/plain": [
       "np.float64(374.6)"
      ]
     },
     "execution_count": 21,
     "metadata": {},
     "output_type": "execute_result"
    }
   ],
   "source": [
    "df_vendas_uniao['preco'].mean()"
   ]
  },
  {
   "cell_type": "code",
   "execution_count": 22,
   "metadata": {},
   "outputs": [
    {
     "data": {
      "text/plain": [
       "np.float64(103.46590064508283)"
      ]
     },
     "execution_count": 22,
     "metadata": {},
     "output_type": "execute_result"
    }
   ],
   "source": [
    "df_vendas_uniao['preco'].std()"
   ]
  },
  {
   "cell_type": "code",
   "execution_count": null,
   "metadata": {},
   "outputs": [],
   "source": []
  }
 ],
 "metadata": {
  "kernelspec": {
   "display_name": "Python 3",
   "language": "python",
   "name": "python3"
  },
  "language_info": {
   "codemirror_mode": {
    "name": "ipython",
    "version": 3
   },
   "file_extension": ".py",
   "mimetype": "text/x-python",
   "name": "python",
   "nbconvert_exporter": "python",
   "pygments_lexer": "ipython3",
   "version": "3.12.8"
  }
 },
 "nbformat": 4,
 "nbformat_minor": 2
}
